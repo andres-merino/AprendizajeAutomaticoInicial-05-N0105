{
 "cells": [
  {
   "cell_type": "markdown",
   "metadata": {},
   "source": [
    "<a href=\"https://colab.research.google.com/github/andres-merino/AprendizajeAutomaticoInicial-05-N0105/blob/main/2-Notebooks/07-Normalizacion.ipynb\" target=\"_parent\"><img src=\"https://colab.research.google.com/assets/colab-badge.svg\" alt=\"Open In Colab\"/></a>"
   ]
  },
  {
   "cell_type": "markdown",
   "metadata": {},
   "source": [
    "<table style=\"border: none; border-collapse: collapse;\">\n",
    "    <tr>\n",
    "        <td style=\"width: 20%; vertical-align: middle; padding-right: 10px;\">\n",
    "            <img src=\"https://i.imgur.com/nt7hloA.png\" width=\"100\">\n",
    "        </td>\n",
    "        <td style=\"width: 2px; text-align: center;\">\n",
    "            <font color=\"#0030A1\" size=\"7\">|</font><br>\n",
    "            <font color=\"#0030A1\" size=\"7\">|</font>\n",
    "        </td>\n",
    "        <td>\n",
    "            <p style=\"font-variant: small-caps;\"><font color=\"#0030A1\" size=\"5\">\n",
    "                <b>Escuela de Ciencias Físicas y Matemática</b>\n",
    "            </font> </p>\n",
    "            <p style=\"font-variant: small-caps;\"><font color=\"#0030A1\" size=\"4\">\n",
    "                Aprendizaje Automático Inicial &bull; Algoritmo k-Nearest Neighbors\n",
    "            </font></p>\n",
    "            <p style=\"font-style: oblique;\"><font color=\"#0030A1\" size=\"3\">\n",
    "                Andrés Merino &bull; 2024-02\n",
    "            </font></p>\n",
    "        </td>  \n",
    "    </tr>\n",
    "</table>"
   ]
  },
  {
   "cell_type": "markdown",
   "metadata": {},
   "source": [
    "---\n",
    "## <font color='264CC7'> Introducción </font>\n",
    "\n",
    "Este notebook es una guía introductoria sobre la importancia de la normalización y escalado de datos en el análisis de agrupamiento con K-Means."
   ]
  },
  {
   "cell_type": "markdown",
   "metadata": {},
   "source": [
    "Los paquetes necesarios son:"
   ]
  },
  {
   "cell_type": "code",
   "execution_count": null,
   "metadata": {},
   "outputs": [],
   "source": [
    "import matplotlib.pyplot as plt  # Visualización de datos  \n",
    "from sklearn.datasets import make_blobs  # Generación de datos sintéticos  \n",
    "from sklearn.preprocessing import StandardScaler, MinMaxScaler, RobustScaler, Normalizer  # Métodos de escalado  \n",
    "from sklearn.cluster import KMeans  # Algoritmo de agrupamiento K-Means  "
   ]
  },
  {
   "cell_type": "markdown",
   "metadata": {},
   "source": [
    "---\n",
    "## <font color='264CC7'> Ejemplo </font>\n",
    "\n",
    "En el siguiente código, se generan datos sintéticos y se aplican diferentes técnicas de escalado (`StandardScaler`, `MinMaxScaler`, `RobustScaler`, `Normalizer`) para analizar su impacto en el algoritmo de clustering K-Means."
   ]
  },
  {
   "cell_type": "code",
   "execution_count": null,
   "metadata": {},
   "outputs": [],
   "source": [
    "# Generar datos sintéticos\n",
    "X, _ = make_blobs(n_samples=100, centers=2, cluster_std=5, random_state=42)\n",
    "X[:, 1] *= 2  # Aumentar varianza en la segunda característica\n",
    "X += 5  # Desplazar datos"
   ]
  },
  {
   "cell_type": "markdown",
   "metadata": {},
   "source": [
    "Dividimos los datos en los conjuntos de entrenamiento y prueba."
   ]
  },
  {
   "cell_type": "code",
   "execution_count": null,
   "metadata": {},
   "outputs": [],
   "source": [
    "# Aplicar K-Means\n",
    "labels = KMeans(n_clusters=2, random_state=42).fit_predict(X)\n",
    "\n",
    "# Definir escaladores\n",
    "scalers = {\n",
    "    \"Original Data\": None,\n",
    "    \"StandardScaler\": StandardScaler(),\n",
    "    \"MinMaxScaler\": MinMaxScaler(),\n",
    "    \"RobustScaler\": RobustScaler(),\n",
    "    \"Normalizer\": Normalizer()\n",
    "}\n",
    "\n",
    "# Crear figuras\n",
    "fig, axes = plt.subplots(2, 3, figsize=(12, 8))\n",
    "axes = axes.ravel()\n",
    "\n",
    "for i, (name, scaler) in enumerate(scalers.items()):\n",
    "    X_scaled = scaler.fit_transform(X) if scaler else X\n",
    "    ejeX, ejeY = ((-3, 4), (-3, 4)) if scaler else ((-10, 20), (-10, 50))\n",
    "    axes[i].scatter(X_scaled[:, 0], X_scaled[:, 1], c=labels, cmap=\"bwr\", alpha=0.6)\n",
    "    axes[i].set_title(name)\n",
    "    axes[i].set_xlim(ejeX)\n",
    "    axes[i].set_ylim(ejeY)\n",
    "\n",
    "plt.tight_layout()\n",
    "plt.show()"
   ]
  },
  {
   "cell_type": "markdown",
   "metadata": {},
   "source": [
    "---\n",
    "## <font color='264CC7'> Ejemplo práctico </font>\n"
   ]
  }
 ],
 "metadata": {
  "kernelspec": {
   "display_name": "Python 3",
   "language": "python",
   "name": "python3"
  },
  "language_info": {
   "codemirror_mode": {
    "name": "ipython",
    "version": 3
   },
   "file_extension": ".py",
   "mimetype": "text/x-python",
   "name": "python",
   "nbconvert_exporter": "python",
   "pygments_lexer": "ipython3",
   "version": "3.12.7"
  }
 },
 "nbformat": 4,
 "nbformat_minor": 2
}
