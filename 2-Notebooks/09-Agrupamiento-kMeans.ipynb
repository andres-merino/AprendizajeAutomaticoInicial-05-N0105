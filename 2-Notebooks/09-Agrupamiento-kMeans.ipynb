{
 "cells": [
  {
   "cell_type": "markdown",
   "metadata": {},
   "source": [
    "<a href=\"https://colab.research.google.com/github/andres-merino/AprendizajeAutomaticoInicial-05-N0105/blob/main/2-Notebooks/09-Agrupamiento-kMeans.ipynb\" target=\"_parent\"><img src=\"https://colab.research.google.com/assets/colab-badge.svg\" alt=\"Open In Colab\"/></a>"
   ]
  },
  {
   "cell_type": "markdown",
   "metadata": {},
   "source": [
    "<table style=\"border: none; border-collapse: collapse;\">\n",
    "    <tr>\n",
    "        <td style=\"width: 20%; vertical-align: middle; padding-right: 10px;\">\n",
    "            <img src=\"https://i.imgur.com/nt7hloA.png\" width=\"100\">\n",
    "        </td>\n",
    "        <td style=\"width: 2px; text-align: center;\">\n",
    "            <font color=\"#0030A1\" size=\"7\">|</font><br>\n",
    "            <font color=\"#0030A1\" size=\"7\">|</font>\n",
    "        </td>\n",
    "        <td>\n",
    "            <p style=\"font-variant: small-caps;\"><font color=\"#0030A1\" size=\"5\">\n",
    "                <b>Escuela de Ciencias Físicas y Matemática</b>\n",
    "            </font> </p>\n",
    "            <p style=\"font-variant: small-caps;\"><font color=\"#0030A1\" size=\"4\">\n",
    "                Aprendizaje Automático Inicial &bull; Agrupamiento k-Means\n",
    "            </font></p>\n",
    "            <p style=\"font-style: oblique;\"><font color=\"#0030A1\" size=\"3\">\n",
    "                Andrés Merino &bull; 2025-04\n",
    "            </font></p>\n",
    "        </td>  \n",
    "    </tr>\n",
    "</table>"
   ]
  },
  {
   "cell_type": "markdown",
   "metadata": {},
   "source": [
    "---\n",
    "## <font color='264CC7'> Introducción </font>\n",
    "\n",
    "Este notebook está diseñado como una guía introductoria para implementar el algoritmo de agrupamiento K-means en Python.\n"
   ]
  },
  {
   "cell_type": "markdown",
   "metadata": {},
   "source": [
    "Los paquetes necesarios son:"
   ]
  },
  {
   "cell_type": "code",
   "execution_count": null,
   "metadata": {},
   "outputs": [],
   "source": [
    "import pandas as pd  # Manejo de datos\n",
    "import numpy as np  # Operaciones matemáticas y arreglos\n",
    "import matplotlib.pyplot as plt  # Visualización\n",
    "import plotly.express as px # Para visualización interactiva\n",
    "\n",
    "from sklearn.preprocessing import StandardScaler  # Estandarización de datos\n",
    "\n",
    "from sklearn.datasets import make_blobs # Creación de datos de prueba\n",
    "from sklearn.cluster import KMeans  # Algoritmo K-means\n",
    "from sklearn.decomposition import PCA # Análisis de componentes principales"
   ]
  },
  {
   "cell_type": "markdown",
   "metadata": {},
   "source": [
    "---\n",
    "## <font color='264CC7'> Ejemplo </font>\n",
    "\n",
    "En el siguiente código, se agrupan datos generados artificialmente en cuatro grupos utilizando el algoritmo K-means.  Se muestran los resultados mediante un gráfico de dispersión, destacando los centroides de los grupos."
   ]
  },
  {
   "cell_type": "code",
   "execution_count": null,
   "metadata": {},
   "outputs": [],
   "source": [
    "# Generar datos de ejemplo\n",
    "X, y_true = make_blobs(n_samples=300, centers=4, cluster_std=1.5, random_state=42)\n",
    "\n",
    "# Visualizar los datos\n",
    "plt.figure(figsize=(5, 4))\n",
    "plt.scatter(X[:, 0], X[:, 1], s=50)\n",
    "plt.title('Datos de ejemplo')\n",
    "plt.show()"
   ]
  },
  {
   "cell_type": "markdown",
   "metadata": {},
   "source": [
    "El código para generar el agrupamiento es el siguiente:"
   ]
  },
  {
   "cell_type": "code",
   "execution_count": null,
   "metadata": {},
   "outputs": [],
   "source": [
    "# Implementación de K-means\n",
    "modelo = KMeans(n_clusters=4, random_state=42)\n",
    "modelo.fit(X)\n",
    "labels = modelo.labels_\n",
    "print(labels)"
   ]
  },
  {
   "cell_type": "markdown",
   "metadata": {},
   "source": [
    "Revisemos el resultado de la ejecución del código:"
   ]
  },
  {
   "cell_type": "code",
   "execution_count": null,
   "metadata": {},
   "outputs": [],
   "source": [
    "# Visualizar los clusters\n",
    "plt.figure(figsize=(5, 4))\n",
    "plt.scatter(X[:, 0], X[:, 1], c=labels, s=50)\n",
    "plt.title('Clusters')\n",
    "plt.show()"
   ]
  },
  {
   "cell_type": "markdown",
   "metadata": {},
   "source": [
    "Podemos obtener los centroides de los grupos con el siguiente código:"
   ]
  },
  {
   "cell_type": "code",
   "execution_count": null,
   "metadata": {},
   "outputs": [],
   "source": [
    "# Centroides\n",
    "centroids = modelo.cluster_centers_\n",
    "print(centroids)"
   ]
  },
  {
   "cell_type": "markdown",
   "metadata": {},
   "source": [
    "Agreguemos los centroides al gráfico de dispersión:"
   ]
  },
  {
   "cell_type": "code",
   "execution_count": null,
   "metadata": {},
   "outputs": [],
   "source": [
    "# Gráfico con centroides\n",
    "plt.figure(figsize=(5, 4))\n",
    "plt.scatter(X[:, 0], X[:, 1], c=labels, s=50)\n",
    "plt.scatter(centroids[:, 0], centroids[:, 1], c='red', s=200, marker='x')\n",
    "plt.title('Clusters con centroides')\n",
    "plt.show()"
   ]
  },
  {
   "cell_type": "markdown",
   "metadata": {},
   "source": [
    "Podemos calcular la inercia de los grupos con el siguiente código:"
   ]
  },
  {
   "cell_type": "code",
   "execution_count": null,
   "metadata": {},
   "outputs": [],
   "source": [
    "# Inercia\n",
    "modelo.inertia_"
   ]
  },
  {
   "cell_type": "markdown",
   "metadata": {},
   "source": [
    "<div style=\"background-color: #edf1f8; border-color: #264CC7; border-left: 5px solid #264CC7; padding: 0.5em;\">\n",
    "<strong>Ejercicio:</strong><br>\n",
    "Utilizar k = 3 y comparar el resultado con k = 4.\n",
    "</div>\n",
    "</br>\n",
    "\n",
    "<div style=\"background-color: #edf1f8; border-color: #264CC7; border-left: 5px solid #264CC7; padding: 0.5em;\">\n",
    "<strong>Ejercicio:</strong><br>\n",
    "Cambiar el método de inicialización a `'random'` y observar los efectos en la convergencia. Revisa la documentación de la función `KMeans` para obtener más información sobre este y otros parámetros.\n",
    "</div>"
   ]
  },
  {
   "cell_type": "code",
   "execution_count": null,
   "metadata": {},
   "outputs": [],
   "source": []
  },
  {
   "cell_type": "markdown",
   "metadata": {},
   "source": [
    "### <font color='264CC7'> Método del codo </font>"
   ]
  },
  {
   "cell_type": "markdown",
   "metadata": {},
   "source": [
    "Para seleccionar el número de clusters, se puede utilizar el método del codo. Este método consiste en graficar la suma de las distancias al cuadrado de cada punto al centroide más cercano en función del número de clusters. El punto en el que la pendiente de la curva disminuye drásticamente se considera el número óptimo de clusters."
   ]
  },
  {
   "cell_type": "code",
   "execution_count": null,
   "metadata": {},
   "outputs": [],
   "source": [
    "# Metodo del codo\n",
    "inertia = []\n",
    "for i in range(1, 11):\n",
    "    modelo = KMeans(n_clusters=i, random_state=42)\n",
    "    modelo.fit(X)\n",
    "    inertia.append(modelo.inertia_)\n",
    "plt.figure(figsize=(5, 3))\n",
    "plt.plot(range(1, 11), inertia, marker='o')\n",
    " "
   ]
  },
  {
   "cell_type": "markdown",
   "metadata": {},
   "source": [
    "<div style=\"background-color: #edf1f8; border-color: #264CC7; border-left: 5px solid #264CC7; padding: 0.5em;\">\n",
    "<strong>Ejercicio:</strong><br>\n",
    "Realiza el agrupamiento con el número de clusters que consideres óptimo con la gráfica del método del codo.\n",
    "</div>"
   ]
  },
  {
   "cell_type": "code",
   "execution_count": null,
   "metadata": {},
   "outputs": [],
   "source": []
  },
  {
   "cell_type": "markdown",
   "metadata": {},
   "source": [
    "---\n",
    "## <font color='264CC7'> Ejemplo práctico </font>\n"
   ]
  },
  {
   "cell_type": "markdown",
   "metadata": {},
   "source": [
    "### <font color='264CC7'> Preprocesamiento de datos </font>"
   ]
  },
  {
   "cell_type": "markdown",
   "metadata": {},
   "source": [
    "Primero leamos los datos y seleccionemos las columnas que utilizaremos:"
   ]
  },
  {
   "cell_type": "code",
   "execution_count": null,
   "metadata": {},
   "outputs": [],
   "source": [
    "# Leer los datos\n",
    "data = pd.read_csv('https://raw.githubusercontent.com/andres-merino/AprendizajeAutomaticoInicial-05-N0105/refs/heads/main/2-Notebooks/datos/Pokemon.csv')\n",
    "# Tomo las columnas de interés\n",
    "numeric_cols = ['Attack', 'Defense', 'Speed', 'Sp. Atk', 'Sp. Def', 'HP']\n",
    "data = data[['Name', *numeric_cols]]\n",
    "# Muestro los primeros registros\n",
    "display(data.head())"
   ]
  },
  {
   "cell_type": "markdown",
   "metadata": {},
   "source": [
    "Revisemos los datos:"
   ]
  },
  {
   "cell_type": "code",
   "execution_count": null,
   "metadata": {},
   "outputs": [],
   "source": [
    "data.describe()"
   ]
  },
  {
   "cell_type": "markdown",
   "metadata": {},
   "source": [
    "Escalemos los datos:"
   ]
  },
  {
   "cell_type": "code",
   "execution_count": null,
   "metadata": {},
   "outputs": [],
   "source": [
    "# Escalar los datos\n",
    "scaler = StandardScaler()\n",
    "X = scaler.fit_transform(data.iloc[:, 1:])"
   ]
  },
  {
   "cell_type": "markdown",
   "metadata": {},
   "source": [
    "### <font color='264CC7'> Determinación del número de clusters </font>"
   ]
  },
  {
   "cell_type": "markdown",
   "metadata": {},
   "source": [
    "Realicemos el método del codo para determinar el número de clusters óptimo:"
   ]
  },
  {
   "cell_type": "code",
   "execution_count": null,
   "metadata": {},
   "outputs": [],
   "source": [
    "# Metodo del codo\n",
    "inertia = []\n",
    "for i in range(1, 11):\n",
    "    modelo = KMeans(n_clusters=i, random_state=42)\n",
    "    modelo.fit(X)\n",
    "    inertia.append(modelo.inertia_)\n",
    "plt.figure(figsize=(5, 3))\n",
    "plt.plot(range(1, 11), inertia, marker='o')"
   ]
  },
  {
   "cell_type": "markdown",
   "metadata": {},
   "source": [
    "El número óptimo de clusters parece ser 4 o 6. Utilicemos 6 clusters para el agrupamiento."
   ]
  },
  {
   "cell_type": "markdown",
   "metadata": {},
   "source": [
    "### <font color='264CC7'> k-Means </font>"
   ]
  },
  {
   "cell_type": "markdown",
   "metadata": {},
   "source": [
    "Generamos el agrupamiento:"
   ]
  },
  {
   "cell_type": "code",
   "execution_count": null,
   "metadata": {},
   "outputs": [],
   "source": [
    "# Realizamos el agrupamiento\n",
    "modelo = KMeans(n_clusters=6, random_state=42)\n",
    "modelo.fit(X)\n",
    "\n",
    "# Asignamos las etiquetas\n",
    "labels = modelo.labels_\n",
    "\n",
    "# Agregar la información de clúster como C1, C2, C3, etc.\n",
    "data['Cluster'] = ['C' + str(c) for c in labels]\n",
    "\n",
    "# Revisar los primeros registros\n",
    "display(data.head())"
   ]
  },
  {
   "cell_type": "markdown",
   "metadata": {},
   "source": [
    "### <font color='264CC7'> Análisis de clústers </font>"
   ]
  },
  {
   "cell_type": "markdown",
   "metadata": {},
   "source": [
    "Revisemos la cantidad de cada cluster:"
   ]
  },
  {
   "cell_type": "code",
   "execution_count": null,
   "metadata": {},
   "outputs": [],
   "source": [
    "# Cantidades de elementos por clúster\n",
    "data['Cluster'].value_counts()"
   ]
  },
  {
   "cell_type": "markdown",
   "metadata": {},
   "source": [
    "Podemos analizar las características de cada cluster:"
   ]
  },
  {
   "cell_type": "code",
   "execution_count": null,
   "metadata": {},
   "outputs": [],
   "source": [
    "# Podemos ver las medias de cada clúster\n",
    "data.groupby('Cluster')[numeric_cols].mean()\n"
   ]
  },
  {
   "cell_type": "markdown",
   "metadata": {},
   "source": [
    "Revisemos los cinco primeros elementos de cada cluster:"
   ]
  },
  {
   "cell_type": "code",
   "execution_count": null,
   "metadata": {},
   "outputs": [],
   "source": [
    "# Mostremos los nombres de 5 pokemones de cada clúster\n",
    "for cluster in data['Cluster'].unique():\n",
    "    print(f'Cluster {cluster}: cantidad de elementos {data[data[\"Cluster\"] == cluster].shape[0]}')\n",
    "    display(data[data['Cluster'] == cluster].head(5))"
   ]
  },
  {
   "cell_type": "markdown",
   "metadata": {},
   "source": [
    "### <font color='264CC7'> Visualizaciones  </font>"
   ]
  },
  {
   "cell_type": "code",
   "execution_count": null,
   "metadata": {},
   "outputs": [],
   "source": [
    "# Realizo un PCA\n",
    "pca = PCA(n_components=2)\n",
    "X_pca = pca.fit_transform(X)\n",
    "\n",
    "# Crear un DataFrame para graficar fácilmente\n",
    "df_pca = pd.DataFrame(X_pca, columns=['PC1', 'PC2'])\n",
    "df_pca['Name'] = data['Name'].values\n",
    "df_pca['Cluster'] = data['Cluster'].values\n",
    "\n",
    "# Crear el scatterplot interactivo con Plotly Express\n",
    "fig = px.scatter(\n",
    "    df_pca, \n",
    "    x='PC1', \n",
    "    y='PC2', \n",
    "    color='Cluster',\n",
    "    hover_data=['Name'],  # Mostrará 'Name'\n",
    ")\n",
    "\n",
    "# Personalizar apariencia\n",
    "fig.update_traces(marker=dict(opacity=0.8))\n",
    "fig.update_layout(\n",
    "    title='Clústeres visualizados en 2D (PCA)',\n",
    "    width=800,\n",
    "    height=600,\n",
    ")\n",
    "\n",
    "fig.show()"
   ]
  },
  {
   "cell_type": "markdown",
   "metadata": {},
   "source": [
    "<div style=\"background-color: #edf1f8; border-color: #264CC7; border-left: 5px solid #264CC7; padding: 0.5em;\">\n",
    "<strong>Ejercicio:</strong><br>\n",
    "Genera el agrupamiento con otro número de clusters que consideraste óptimo.\n",
    "</div>"
   ]
  },
  {
   "cell_type": "markdown",
   "metadata": {},
   "source": []
  }
 ],
 "metadata": {
  "kernelspec": {
   "display_name": "Python 3",
   "language": "python",
   "name": "python3"
  },
  "language_info": {
   "codemirror_mode": {
    "name": "ipython",
    "version": 3
   },
   "file_extension": ".py",
   "mimetype": "text/x-python",
   "name": "python",
   "nbconvert_exporter": "python",
   "pygments_lexer": "ipython3",
   "version": "3.12.3"
  }
 },
 "nbformat": 4,
 "nbformat_minor": 2
}
